{
 "cells": [
  {
   "cell_type": "markdown",
   "metadata": {},
   "source": [
    "# Digital compensator design for LLC converter\n",
    "**Reference:** Microchip - an1477a - Digital Compensator Design for LLC resonant Converter  \n",
    "Extended Describing Functions (EDF) method is generally used to model LLC converters as it considers all switching frequency harmonics for accuracy.\n",
    "\n",
    "Thr purpose is to obtain transfer functions such as control to output TF $G_{vw}$, line to output TF $G_{vg}$"
   ]
  },
  {
   "cell_type": "code",
   "execution_count": null,
   "metadata": {},
   "outputs": [],
   "source": []
  }
 ],
 "metadata": {
  "kernelspec": {
   "display_name": "Python 3 (ipykernel)",
   "language": "python",
   "name": "python3"
  },
  "language_info": {
   "codemirror_mode": {
    "name": "ipython",
    "version": 3
   },
   "file_extension": ".py",
   "mimetype": "text/x-python",
   "name": "python",
   "nbconvert_exporter": "python",
   "pygments_lexer": "ipython3",
   "version": "3.9.19"
  }
 },
 "nbformat": 4,
 "nbformat_minor": 4
}
